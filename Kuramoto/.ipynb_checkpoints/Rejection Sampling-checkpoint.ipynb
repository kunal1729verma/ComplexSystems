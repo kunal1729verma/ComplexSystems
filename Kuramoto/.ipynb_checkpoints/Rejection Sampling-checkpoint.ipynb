{
 "cells": [
  {
   "cell_type": "code",
   "execution_count": 10,
   "metadata": {},
   "outputs": [
    {
     "name": "stderr",
     "output_type": "stream",
     "text": [
      "C:\\Users\\kunal\\anaconda3\\lib\\site-packages\\ipykernel_launcher.py:26: MatplotlibDeprecationWarning: Adding an axes using the same arguments as a previous axes currently reuses the earlier instance.  In a future version, a new instance will always be created and returned.  Meanwhile, this warning can be suppressed, and the future behavior ensured, by passing a unique label to each axes instance.\n"
     ]
    },
    {
     "data": {
      "image/png": "[encoded data removed]",
      "text/plain": [
       "<Figure size 432x288 with 1 Axes>"
      ]
     },
     "metadata": {
      "needs_background": "light"
     },
     "output_type": "display_data"
    }
   ],
   "source": [
    "import numpy as np\n",
    "import matplotlib.pyplot as plt\n",
    "import random\n",
    "\n",
    "def pdf(a,x):\n",
    "    #y=g/(x**2+g**2)\n",
    "    y=(1/(a*np.sqrt(2*np.pi))) * np.exp(-0.5*((x/a)**2))\n",
    "    return y\n",
    "\n",
    "N=0\n",
    "g=1\n",
    "x_list=[]\n",
    "y_list=[]\n",
    "\n",
    "while(N!=10**6):\n",
    "    x=random.uniform(-8,8)   # Generate a uniform random number between some finite range of x you decide\n",
    "    y=random.uniform(0,1)    # Generate a uniform random number between 0 and y_max\n",
    "    if(pdf(g,x)>y):      # if the random y value < pdf(x), then accept that point.\n",
    "        x_list.append(x)\n",
    "        N=N+1\n",
    "\n",
    "fig= plt.figure()\n",
    "plt.hist(x_list,bins=10**3)\n",
    "plt.xlabel(\"ω\")\n",
    "plt.ylabel(\"g(ω)\")\n",
    "ax = fig.add_subplot(111)\n",
    "plt.savefig('Gaussian'+'.png', dpi=(200)) \n",
    "plt.show()"
   ]
  },
  {
   "cell_type": "code",
   "execution_count": 10,
   "metadata": {},
   "outputs": [
    {
     "data": {
      "text/plain": [
       "0.3216267748798042"
      ]
     },
     "execution_count": 10,
     "metadata": {},
     "output_type": "execute_result"
    }
   ],
   "source": []
  },
  {
   "cell_type": "code",
   "execution_count": null,
   "metadata": {},
   "outputs": [],
   "source": []
  }
 ],
 "metadata": {
  "kernelspec": {
   "display_name": "Python 3",
   "language": "python",
   "name": "python3"
  },
  "language_info": {
   "codemirror_mode": {
    "name": "ipython",
    "version": 3
   },
   "file_extension": ".py",
   "mimetype": "text/x-python",
   "name": "python",
   "nbconvert_exporter": "python",
   "pygments_lexer": "ipython3",
   "version": "3.7.6"
  }
 },
 "nbformat": 4,
 "nbformat_minor": 4
}
