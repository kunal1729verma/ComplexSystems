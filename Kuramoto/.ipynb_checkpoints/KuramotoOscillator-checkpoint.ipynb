{
 "cells": [
  {
   "cell_type": "code",
   "execution_count": 80,
   "metadata": {},
   "outputs": [],
   "source": [
    "import numpy as np\n",
    "import matplotlib.pyplot as plt\n",
    "from timeit import default_timer as timer\n",
    "import random\n",
    "import cmath\n",
    "\n",
    "def pdf_lorentz(a,x):            # Lorentzian Probability Distribution\n",
    "    y=a/(np.pi*(x**2+a**2))\n",
    "    return y\n",
    "\n",
    "def omega_list(no_of_osc, a):           # To generate a lorentzian weighted distribution of w.\n",
    "    N=0 \n",
    "    x_list=[]\n",
    "    y_list=[]\n",
    "    while(N!=no_of_osc):\n",
    "        x=random.uniform(-8,8)   # Generate a uniform random number between some apt finite range of x.\n",
    "        y=random.uniform(0,1)    # Generate a uniform random number between 0 and y_max\n",
    "        if(pdf_lorentz(a,x)>y):      # if the random y value < pdf(x), then accept that point.\n",
    "            x_list.append(x)\n",
    "            N=N+1\n",
    "    x_list=np.array(x_list)\n",
    "    return x_list\n",
    "\n",
    "def rpsi(theta_list):                 # to find r(t) and psi(t) for a given time t \n",
    "    z=np.mean(np.exp([complex(0,theta) for theta in theta_list]))\n",
    "    r=abs(z)\n",
    "    psi=cmath.phase(z)    \n",
    "    return r,psi\n",
    "\n",
    "def evolution(theta_list,w_list,k,r,psi,dt):   # Integration function for theta_i's\n",
    "    new_theta=np.add(theta_list,dt*np.add(w_list,k*r*np.sin(np.subtract(psi,theta_list))))\n",
    "    return new_theta\n",
    "\n",
    "def random_theta_i(N):\n",
    "    anglelist=np.zeros(N, dtype=float)\n",
    "    for i in range(N):\n",
    "        theta=random.random()*2*np.pi\n",
    "        anglelist[i]+=theta\n",
    "    return anglelist\n",
    "\n",
    "    "
   ]
  },
  {
   "cell_type": "code",
   "execution_count": 68,
   "metadata": {},
   "outputs": [
    {
     "name": "stdout",
     "output_type": "stream",
     "text": [
      "Runtime=  17.99687610000001  secs\n",
      "0.036162114111734485\n"
     ]
    },
    {
     "data": {
      "image/png": "[encoded data removed]",
      "text/plain": [
       "<Figure size 432x288 with 1 Axes>"
      ]
     },
     "metadata": {
      "needs_background": "light"
     },
     "output_type": "display_data"
    }
   ],
   "source": [
    "for sigma in np.arange(1.5,4,1):\n",
    "    r_list=[]\n",
    "    k_list=[]\n",
    "    start = timer()\n",
    "    for k in np.concatenate((np.concatenate((np.arange(0,0,0.5),np.arange(0,0,0.2))),np.arange(0,10.5,0.5))):\n",
    "        list_to_avg=[]\n",
    "        for j in range(5):\n",
    "            dt=10**(-2)               # delta t                   # Coupling Constant K\n",
    "            time_steps=4*(10**3)      # Number of Time Steps\n",
    "            N=2*10**3               # Number of Oscillators\n",
    "            rlist=np.zeros(int(time_steps), dtype=float)\n",
    "            w_list=omega_list(N, sigma)               # Initial Distribution of angular frequencies.\n",
    "            theta_list=random_theta_i(N)   # Initial Random Distribution of Phases.\n",
    "            \n",
    "            for t in range(int(time_steps)):\n",
    "                r,psi=rpsi(theta_list)\n",
    "                theta_list=evolution(theta_list,w_list,k,r,psi,dt)      # New theta Phase list.\n",
    "                rlist[t]+=r  \n",
    "            r_mean=np.mean(rlist[int(np.floor(len(rlist)*3/4)):int(len(rlist))])   # Mean over the last 25% elements\n",
    "            list_to_avg.append(r_mean)\n",
    "        \n",
    "        r_list.append(np.mean(np.array(list_to_avg)))\n",
    "        k_list.append(k)\n",
    "            \n",
    "    end = timer()\n",
    "    print(\"Runtime= \", end-start, \" secs\")\n",
    "    kc_list=np.zeros(len(k_list),dtype=float)\n",
    "    for i in range(len(kc_list)):\n",
    "        kc_list[i]=kc_list[i]+abs(rmean[i]-0.5)\n",
    "    kc_index=np.where(kc_list==np.amin(kc_list))[0][0]\n",
    "    kc=k_list[kc_index]\n",
    "    fig= plt.figure()\n",
    "    plt.plot(k_list,r_list,'o-', color=\"#118df0\")\n",
    "    plt.plot([kc,kc],[0,1],'--', color=\"#000000\")\n",
    "    plt.grid(True)\n",
    "    plt.ylabel(\"R at equilibrium\")\n",
    "    plt.xlabel(\"K \")\n",
    "    ax = fig.add_subplot(111)\n",
    "    ax.text(0.7*k,0.3,\"K_c = \" + str (round(kc,4)) ,color='black', fontsize=12)\n",
    "    ax.text(0.7*k,0.2,\"σ (Lorentz)= \" + str(sigma) ,color='black', fontsize=12)\n",
    "    plt.savefig('plot ' + \"Lorentz \" + \"σ=\" + str(sigma) + \" dt=\" + str(dt) + \" time=\"+ str(time_steps*dt)+'.png', dpi=(200))  \n",
    "    plt.show()\n"
   ]
  },
  {
   "cell_type": "code",
   "execution_count": 74,
   "metadata": {},
   "outputs": [
    {
     "name": "stdout",
     "output_type": "stream",
     "text": [
      "Runtime=  88.24394960000063  secs\n"
     ]
    },
    {
     "name": "stderr",
     "output_type": "stream",
     "text": [
      "C:\\Users\\kunal\\anaconda3\\lib\\site-packages\\ipykernel_launcher.py:39: MatplotlibDeprecationWarning: Adding an axes using the same arguments as a previous axes currently reuses the earlier instance.  In a future version, a new instance will always be created and returned.  Meanwhile, this warning can be suppressed, and the future behavior ensured, by passing a unique label to each axes instance.\n"
     ]
    },
    {
     "data": {
      "image/png": "[encoded data removed]",
      "text/plain": [
       "<Figure size 432x288 with 1 Axes>"
      ]
     },
     "metadata": {
      "needs_background": "light"
     },
     "output_type": "display_data"
    }
   ],
   "source": []
  },
  {
   "cell_type": "code",
   "execution_count": 79,
   "metadata": {},
   "outputs": [],
   "source": [
    "#WASTEEE\n",
    "dt=10**(-2)           # delta t\n",
    "k=2.2                  # Coupling Constant K\n",
    "time_steps=10*(10**3)      # Number of Time Steps\n",
    "N=2*10**3               # Number of Oscillators\n",
    "rlist=np.zeros(int(time_steps), dtype=float)\n",
    "start = timer()\n",
    "w_list=omega_list(N, sigma)               # Initial Distribution of angular frequencies.\n",
    "end = timer()\n",
    "theta_list=random_theta_i(N)   # Initial Random Distribution of Phases.\n",
    "\n",
    "start = timer()\n",
    "for t in range(int(time_steps)):\n",
    "    r,psi=rpsi(theta_list)\n",
    "    theta_list=evolution(theta_list,w_list,k,r,psi,dt)      # New theta Phase list.\n",
    "    rlist[t]+=r\n",
    "end = timer()\n",
    "print(\"Runtime= \", end-start, \" secs\")\n",
    "plt.plot(np.arange(time_steps)*dt,rlist)\n",
    "plt.grid(True)\n",
    "plt.ylim(0,1)\n",
    "mean=np.mean(rlist[int(np.floor(len(rlist)*3/4)):int(len(rlist))])   # Mean over the last 25% elements \n",
    "print(mean)\n"
   ]
  },
  {
   "cell_type": "code",
   "execution_count": null,
   "metadata": {},
   "outputs": [],
   "source": [
    "#WASTE\n",
    "rmean=[]\n",
    "k_list=[]\n",
    "sigma=2\n",
    "start = timer()\n",
    "\n",
    "for k in np.concatenate((np.concatenate((np.arange(0,0,0.5),np.arange(0,0,0.2))),np.arange(0,10.5,0.2))):\n",
    "    dt=10**(-2)               # delta t                   # Coupling Constant K\n",
    "    time_steps=4*(10**3)      # Number of Time Steps\n",
    "    N=2*10**3               # Number of Oscillators\n",
    "    rlist=np.zeros(int(time_steps), dtype=float)\n",
    "    w_list=omega_list(N, sigma)               # Initial Distribution of angular frequencies.\n",
    "    theta_list=random_theta_i(N)   # Initial Random Distribution of Phases.\n",
    "    \n",
    "    for t in range(int(time_steps)):\n",
    "        r,psi=rpsi(theta_list)\n",
    "        theta_list=evolution(theta_list,w_list,k,r,psi,dt)      # New theta Phase list.\n",
    "        rlist[t]+=r  \n",
    "    mean=np.mean(rlist[int(np.floor(len(rlist)*3/4)):int(len(rlist))])   # Mean over the last 25% elements \n",
    "    rmean.append(mean)\n",
    "    k_list.append(k)\n",
    "    \n",
    "end = timer()\n",
    "print(\"Runtime= \", end-start, \" secs\")\n",
    "plt.plot(k_list,rmean,'.-')\n",
    "plt.grid(True)"
   ]
  },
  {
   "cell_type": "code",
   "execution_count": null,
   "metadata": {},
   "outputs": [],
   "source": [
    "#WASTE\n",
    "kc_list=np.zeros(len(k_list),dtype=float)\n",
    "for i in range(len(kc_list)):\n",
    "    kc_list[i]=kc_list[i]+abs(rmean[i]-0.5)\n",
    "kc_index=np.where(kc_list==np.amin(kc_list))[0][0]\n",
    "kc=k_list[kc_index]\n",
    "fig = plt.figure()\n",
    "plt.plot(k_list,r_list,'o-', color=\"#118df0\")\n",
    "plt.plot([kc,kc],[0,1],'--', color=\"#000000\")\n",
    "plt.grid(True)\n",
    "plt.ylabel(\"R at equilibrium\")\n",
    "plt.xlabel(\"K \")\n",
    "ax = fig.add_subplot(111)\n",
    "ax.text(0.7*k,0.3,\"K_c = \" + str (round(kc,3)) ,color='black', fontsize=12)\n",
    "ax.text(0.7*k,0.2,\"σ (Lorentz)= \" + str(sigma) ,color='black', fontsize=12)\n",
    "plt.savefig('plot ' + \"Lorentz \" + \"σ=\" + str(sigma) + \" dt=\" + str(dt) + \" time=\"+ str(time_steps*dt)+'.png', dpi=(200))  \n",
    "plt.show()\n"
   ]
  }
 ],
 "metadata": {
  "kernelspec": {
   "display_name": "Python 3",
   "language": "python",
   "name": "python3"
  },
  "language_info": {
   "codemirror_mode": {
    "name": "ipython",
    "version": 3
   },
   "file_extension": ".py",
   "mimetype": "text/x-python",
   "name": "python",
   "nbconvert_exporter": "python",
   "pygments_lexer": "ipython3",
   "version": "3.7.6"
  }
 },
 "nbformat": 4,
 "nbformat_minor": 4
}
